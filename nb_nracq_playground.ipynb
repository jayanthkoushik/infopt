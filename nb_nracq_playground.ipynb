{
 "cells": [
  {
   "cell_type": "markdown",
   "metadata": {},
   "source": [
    "# Playground for testing neural network acquisition optimization"
   ]
  },
  {
   "cell_type": "code",
   "execution_count": 1,
   "metadata": {
    "ExecuteTime": {
     "end_time": "2021-01-21T01:42:05.994462Z",
     "start_time": "2021-01-21T01:42:01.209357Z"
    }
   },
   "outputs": [],
   "source": [
    "%matplotlib inline\n",
    "from functools import partial\n",
    "import os\n",
    "import sys\n",
    "import GPyOpt\n",
    "import numpy as np\n",
    "from shinyutils.matwrap import MatWrap as mw\n",
    "from tensorboardX import SummaryWriter\n",
    "import torch\n",
    "import torch.nn as nn\n",
    "import torch.nn.functional as F\n",
    "import torch.optim as optim\n",
    "\n",
    "#from infopt.ihvp import LowRankIHVP\n",
    "from infopt.nnacq import NNAcq\n",
    "from infopt.nnmodel import NNModel\n",
    "from infopt.nrmodel import NRModel\n",
    "from exputils.models import NRNet\n",
    "\n",
    "LDA = 1e-2"
   ]
  },
  {
   "cell_type": "markdown",
   "metadata": {},
   "source": [
    "## Network used to model data"
   ]
  },
  {
   "cell_type": "raw",
   "metadata": {},
   "source": [
    "class Net(nn.Module):\n",
    "    def __init__(self):\n",
    "        super().__init__()\n",
    "        self.fc1 = nn.Linear(1, 3)\n",
    "        self.fc2 = nn.Linear(3, 3)\n",
    "        self.fc3 = nn.Linear(3, 1)\n",
    "\n",
    "    def forward(self, x):\n",
    "        x = F.tanh(self.fc1(x))\n",
    "        x = F.tanh(self.fc2(x))\n",
    "        return self.fc3(x)"
   ]
  },
  {
   "cell_type": "markdown",
   "metadata": {},
   "source": [
    "## Objective function"
   ]
  },
  {
   "cell_type": "code",
   "execution_count": 2,
   "metadata": {
    "ExecuteTime": {
     "end_time": "2021-01-21T01:42:06.001549Z",
     "start_time": "2021-01-21T01:42:05.996911Z"
    }
   },
   "outputs": [],
   "source": [
    "f_true = GPyOpt.objective_examples.experiments1d.forrester(sd=0)\n",
    "f_noisy = GPyOpt.objective_examples.experiments1d.forrester(sd=1)\n",
    "bounds = [{\"name\": \"var_1\", \"type\": \"continuous\", \"domain\": (0, 1)}]\n",
    "f_min = f_true.fmin"
   ]
  },
  {
   "cell_type": "markdown",
   "metadata": {},
   "source": [
    "## Optimization setup"
   ]
  },
  {
   "cell_type": "code",
   "execution_count": 3,
   "metadata": {
    "ExecuteTime": {
     "end_time": "2021-01-21T01:42:06.035625Z",
     "start_time": "2021-01-21T01:42:06.004615Z"
    }
   },
   "outputs": [],
   "source": [
    "log_path = \"logs/nr_acq_play\"\n",
    "tb_writer = SummaryWriter(log_path)\n",
    "\n",
    "net = NRNet(num_layers=3, in_dim=1, hidden_dim=4, nonlin=torch.tanh, has_bias=True, init_as_design=True)\n",
    "net_optim = optim.Adam(net.parameters(), lr=0.05)\n",
    "nr_model = NRModel(\n",
    "    net,\n",
    "    lda=LDA,\n",
    "    optim=net_optim,\n",
    "    update_batch_size=np.inf,\n",
    "    update_iters_per_point=10,\n",
    "    tb_writer=tb_writer,\n",
    ")\n",
    "\n",
    "objective = GPyOpt.core.task.SingleObjective(f_noisy.f)\n",
    "space = GPyOpt.Design_space(space=bounds)\n",
    "initial_design = GPyOpt.experiment_design.initial_design(\"random\", space, 5)\n",
    "acq = NNAcq(\n",
    "    nr_model,\n",
    "    space,\n",
    "    exploration_weight=2,\n",
    "    tb_writer=tb_writer,\n",
    "    optim_cls=optim.Adam,\n",
    "    optim_kwargs={\"lr\": 0.01},\n",
    "    optim_iters=100,\n",
    ")\n",
    "# acq_optimizer = GPyOpt.optimization.AcquisitionOptimizer(space)\n",
    "# acq = GPyOpt.acquisitions.AcquisitionLCB(nr_model, space, acq_optimizer,\n",
    "#                                          exploration_weight=2)\n",
    "feval = GPyOpt.core.evaluators.Sequential(acq)\n",
    "nr_bo = GPyOpt.methods.ModularBayesianOptimization(\n",
    "    nr_model, space, objective, acq, feval, initial_design, normalize_Y=True\n",
    ")\n",
    "\n",
    "nr_bo.Y, _ = nr_bo.objective.evaluate(nr_bo.X)\n",
    "nr_bo.num_acquisitions = 0\n",
    "nr_bo.model_parameters_iterations = None\n",
    "nr_bo.context = None\n",
    "\n",
    "X_te = np.linspace(0, 1, 100)[:, np.newaxis]\n",
    "Y_te = f_true.f(X_te)"
   ]
  },
  {
   "cell_type": "markdown",
   "metadata": {},
   "source": [
    "## Single optimization step"
   ]
  },
  {
   "cell_type": "code",
   "execution_count": 12,
   "metadata": {
    "ExecuteTime": {
     "end_time": "2021-01-21T02:19:23.368488Z",
     "start_time": "2021-01-21T02:19:22.907060Z"
    }
   },
   "outputs": [
    {
     "data": {
      "image/png": "[encoded data removed]",
      "text/plain": [
       "<Figure size 432x288 with 1 Axes>"
      ]
     },
     "metadata": {},
     "output_type": "display_data"
    }
   ],
   "source": [
    "nr_bo._update_model(nr_bo.normalization_type)\n",
    "nr_bo.suggested_sample = nr_bo._compute_next_evaluations()\n",
    "nr_bo.X = np.vstack((nr_bo.X, nr_bo.suggested_sample))\n",
    "nr_bo.evaluate_objective()\n",
    "\n",
    "M_te, S_te = nr_model.predict(X_te)\n",
    "\n",
    "# Undo normalization\n",
    "mu, sig = float(nr_bo.Y.mean()), float(nr_bo.Y.std())\n",
    "if sig > 0:\n",
    "    M_te = sig * M_te\n",
    "    S_te = sig * S_te\n",
    "M_te = M_te + mu\n",
    "\n",
    "# Compute acquisition function values\n",
    "A_te = M_te - acq.exploration_weight * S_te\n",
    "\n",
    "acq_xmin = nr_bo.suggested_sample\n",
    "acq_fmin = A_te[np.argmin(np.abs(X_te - acq_xmin))]\n",
    "\n",
    "mw.configure(context=\"notebook\", backend=\"macosx\")\n",
    "fig = mw.plt().figure()\n",
    "ax = fig.add_subplot(111)\n",
    "ax.plot(X_te[:, 0], Y_te[:, 0], label=\"$f$\", color=\"r\")\n",
    "ax.scatter(nr_bo.X[:, 0], nr_bo.Y[:, 0], color=\"r\", marker=\"x\", label=\"Training data\")\n",
    "ax.plot(X_te[:, 0], A_te[:, 0], color=\"b\", linestyle=\"--\", label=\"$\\\\alpha$\")\n",
    "ax.plot(X_te[:, 0], M_te[:, 0], color=\"g\", linestyle=\":\", label=\"$\\\\hat{f}$\")\n",
    "ax.scatter(acq_xmin, acq_fmin, color=\"b\", marker=\"x\", label=\"Acq. min\")\n",
    "ax.set_xlabel(\"$x$\")\n",
    "ax.set_ylabel(\"$y$\")\n",
    "ax.set_xlim(0, 1)\n",
    "ax.legend()\n",
    "mw.sns().despine(fig=fig, ax=ax, trim=True)"
   ]
  },
  {
   "cell_type": "code",
   "execution_count": 13,
   "metadata": {
    "ExecuteTime": {
     "end_time": "2021-01-21T02:19:25.468785Z",
     "start_time": "2021-01-21T02:19:25.461613Z"
    }
   },
   "outputs": [
    {
     "name": "stdout",
     "output_type": "stream",
     "text": [
      "(8, 1)\n",
      "tensor([[0.3379]], requires_grad=True)\n"
     ]
    }
   ],
   "source": [
    "print(nr_bo.X.shape)\n",
    "print(acq.x)"
   ]
  },
  {
   "cell_type": "code",
   "execution_count": 14,
   "metadata": {
    "ExecuteTime": {
     "end_time": "2021-01-21T02:19:26.839626Z",
     "start_time": "2021-01-21T02:19:26.831321Z"
    }
   },
   "outputs": [
    {
     "data": {
      "text/plain": [
       "[Parameter containing:\n",
       " tensor([[ 0.2060],\n",
       "         [ 2.0159],\n",
       "         [-0.2060],\n",
       "         [-2.0159]], requires_grad=True),\n",
       " Parameter containing:\n",
       " tensor([ 0.1528, -1.6149, -0.1528,  1.6149], requires_grad=True),\n",
       " Parameter containing:\n",
       " tensor([[ 0.2169, -2.6808,  0.8330,  2.0299],\n",
       "         [-0.4347,  2.4089, -0.3246, -1.0304],\n",
       "         [ 0.8330,  2.0299,  0.2169, -2.6808],\n",
       "         [-0.3246, -1.0304, -0.4347,  2.4089]], requires_grad=True),\n",
       " Parameter containing:\n",
       " tensor([ 0.9682,  0.7736, -0.9682, -0.7736], requires_grad=True),\n",
       " Parameter containing:\n",
       " tensor([[-1.4391, -0.6871,  1.4391,  0.6871]], requires_grad=True),\n",
       " Parameter containing:\n",
       " tensor([1.6160], requires_grad=True)]"
      ]
     },
     "execution_count": 14,
     "metadata": {},
     "output_type": "execute_result"
    }
   ],
   "source": [
    "list(acq.model.net.parameters())"
   ]
  },
  {
   "cell_type": "code",
   "execution_count": 15,
   "metadata": {
    "ExecuteTime": {
     "end_time": "2021-01-21T02:19:31.557320Z",
     "start_time": "2021-01-21T02:19:31.551467Z"
    }
   },
   "outputs": [
    {
     "data": {
      "text/plain": [
       "tensor([[78.8334, -4.4373, 21.1666,  ..., -0.7897, -3.2034,  5.6103],\n",
       "        [-4.4373, 64.1678,  4.4373,  ..., -6.2732, -3.4648, -5.1199],\n",
       "        [21.1666,  4.4373, 78.8334,  ...,  0.7897,  3.2035, -5.6103],\n",
       "        ...,\n",
       "        [-0.7897, -6.2732,  0.7897,  ..., 57.8157,  4.0917,  7.6848],\n",
       "        [-3.2034, -3.4648,  3.2035,  ...,  4.0917, 54.9983, -1.5681],\n",
       "        [ 5.6103, -5.1199, -5.6103,  ...,  7.6848, -1.5681, 19.3905]])"
      ]
     },
     "execution_count": 15,
     "metadata": {},
     "output_type": "execute_result"
    }
   ],
   "source": [
    "acq.model.Z_inv"
   ]
  }
 ],
 "metadata": {
  "kernelspec": {
   "display_name": "Python 3",
   "language": "python",
   "name": "python3"
  },
  "language_info": {
   "codemirror_mode": {
    "name": "ipython",
    "version": 3
   },
   "file_extension": ".py",
   "mimetype": "text/x-python",
   "name": "python",
   "nbconvert_exporter": "python",
   "pygments_lexer": "ipython3",
   "version": "3.7.7"
  },
  "varInspector": {
   "cols": {
    "lenName": 16,
    "lenType": 16,
    "lenVar": 40
   },
   "kernels_config": {
    "python": {
     "delete_cmd_postfix": "",
     "delete_cmd_prefix": "del ",
     "library": "var_list.py",
     "varRefreshCmd": "print(var_dic_list())"
    },
    "r": {
     "delete_cmd_postfix": ") ",
     "delete_cmd_prefix": "rm(",
     "library": "var_list.r",
     "varRefreshCmd": "cat(var_dic_list()) "
    }
   },
   "types_to_exclude": [
    "module",
    "function",
    "builtin_function_or_method",
    "instance",
    "_Feature"
   ],
   "window_display": false
  }
 },
 "nbformat": 4,
 "nbformat_minor": 2
}
