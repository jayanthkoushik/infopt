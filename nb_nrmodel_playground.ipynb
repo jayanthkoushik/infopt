{
 "cells": [
  {
   "cell_type": "markdown",
   "metadata": {},
   "source": [
    "# Playground for optimization with neural networks"
   ]
  },
  {
   "cell_type": "code",
   "execution_count": null,
   "metadata": {
    "ExecuteTime": {
     "end_time": "2021-01-19T18:12:42.554153Z",
     "start_time": "2021-01-19T18:12:39.426603Z"
    }
   },
   "outputs": [],
   "source": [
    "%matplotlib inline\n",
    "from functools import partial\n",
    "import sys\n",
    "import GPyOpt\n",
    "import numpy as np\n",
    "from shinyutils.matwrap import MatWrap as mw\n",
    "import torch\n",
    "import torch.nn as nn\n",
    "import torch.nn.functional as F\n",
    "import torch.optim as optim\n",
    "from tensorboardX import SummaryWriter\n",
    "\n",
    "from infopt.nnmodel import NNModel\n",
    "from infopt.nrmodel import NRModel\n",
    "from exputils.models import NRNet\n",
    "from infopt.ihvp import IterativeIHVP, LowRankIHVP\n",
    "\n",
    "LDA = 1e-2"
   ]
  },
  {
   "cell_type": "markdown",
   "metadata": {},
   "source": [
    "## Helper plot function"
   ]
  },
  {
   "cell_type": "code",
   "execution_count": null,
   "metadata": {
    "ExecuteTime": {
     "end_time": "2021-01-19T18:12:42.570200Z",
     "start_time": "2021-01-19T18:12:42.556525Z"
    }
   },
   "outputs": [],
   "source": [
    "mw.configure(context=\"notebook\")\n",
    "\n",
    "\n",
    "def plot_comp_1d(\n",
    "    f_true,\n",
    "    f_noisy,\n",
    "    model,\n",
    "    X_tr,\n",
    "    Y_tr=None,\n",
    "    mu=0,\n",
    "    sig=1,\n",
    "    X_te=np.linspace(0, 1, 200)[:, np.newaxis],\n",
    "):\n",
    "    if Y_tr is None:\n",
    "        Y_tr = f_noisy.f(X_tr)\n",
    "        model.updateModel(X_tr, Y_tr, None, None)\n",
    "\n",
    "    Y_te = f_true.f(X_te)\n",
    "    Yhat_te, s_te = model.predict(X_te)\n",
    "    if sig > 0:\n",
    "        Yhat_te = sig * Yhat_te\n",
    "    Yhat_te = Yhat_te + mu\n",
    "\n",
    "    fig = mw.plt().figure()\n",
    "    ax = fig.add_subplot(111)\n",
    "    ax.plot(X_te, Y_te, label=\"$f$\", color=\"r\")\n",
    "    ax.scatter(\n",
    "        X_tr, Y_tr, marker=\"x\", color=\"r\", label=f\"Training data ($n={len(X_tr)}$)\"\n",
    "    )\n",
    "    ax.plot(X_te, Yhat_te, label=\"$\\hat{f}$\", color=\"b\", ls=\"--\")\n",
    "    X_te, Yhat_te, s_te = X_te[:, 0], Yhat_te[:, 0], s_te[:, 0]\n",
    "    ax.fill_between(X_te, Yhat_te - s_te, Yhat_te + s_te, color=\"b\", alpha=0.25)\n",
    "    ax.set_xlabel(\"$x$\")\n",
    "    ax.set_ylabel(\"$y$\")\n",
    "    ax.legend()\n",
    "    mw.sns().despine(fig=fig, ax=ax, trim=True)\n"
   ]
  },
  {
   "cell_type": "markdown",
   "metadata": {},
   "source": [
    "## Objective function"
   ]
  },
  {
   "cell_type": "code",
   "execution_count": null,
   "metadata": {
    "ExecuteTime": {
     "end_time": "2021-01-19T18:12:42.576735Z",
     "start_time": "2021-01-19T18:12:42.572046Z"
    }
   },
   "outputs": [],
   "source": [
    "f_true = GPyOpt.objective_examples.experiments1d.forrester(sd=0)\n",
    "f_noisy = GPyOpt.objective_examples.experiments1d.forrester(sd=1)\n",
    "bounds = [{\"name\": \"var_1\", \"type\": \"continuous\", \"domain\": (0, 1)}]\n",
    "f_min = f_true.fmin"
   ]
  },
  {
   "cell_type": "code",
   "execution_count": null,
   "metadata": {
    "ExecuteTime": {
     "end_time": "2021-01-19T18:12:42.586488Z",
     "start_time": "2021-01-19T18:12:42.578388Z"
    }
   },
   "outputs": [],
   "source": [
    "class Net(nn.Module):\n",
    "    def __init__(self):\n",
    "        super().__init__()\n",
    "        self.fc1 = nn.Linear(1, 3)\n",
    "        self.fc2 = nn.Linear(3, 3)\n",
    "        self.fc3 = nn.Linear(3, 1)\n",
    "        self.layers = [self.fc1, self.fc2, self.fc3]\n",
    "\n",
    "    def forward(self, x):\n",
    "        x = F.tanh(self.fc1(x))\n",
    "        x = F.tanh(self.fc2(x))\n",
    "        return self.fc3(x)"
   ]
  },
  {
   "cell_type": "markdown",
   "metadata": {},
   "source": [
    "## Offline (batch) learning"
   ]
  },
  {
   "cell_type": "code",
   "execution_count": null,
   "metadata": {
    "ExecuteTime": {
     "end_time": "2021-01-19T18:12:43.909077Z",
     "start_time": "2021-01-19T18:12:42.588142Z"
    }
   },
   "outputs": [],
   "source": [
    "net = NRNet(num_layers=3, in_dim=1, hidden_dim=4, nonlin=torch.tanh, has_bias=True, init_as_design=True)\n",
    "\n",
    "tb_writer = SummaryWriter(\"logs/nr_offline_play\")\n",
    "net_optim = optim.Adam(net.parameters(), lr=0.05)\n",
    "nr_model = NRModel(\n",
    "    net,\n",
    "    lda=LDA,\n",
    "    optim=net_optim,\n",
    "    update_batch_size=np.inf,\n",
    "    update_iters_per_point=20,\n",
    "    tb_writer=tb_writer,\n",
    ")\n",
    "\n",
    "X_tr = np.random.rand(10, 1)\n",
    "plot_comp_1d(f_true, f_noisy, nr_model, X_tr)"
   ]
  },
  {
   "cell_type": "markdown",
   "metadata": {},
   "source": [
    "## Online optimization"
   ]
  },
  {
   "cell_type": "code",
   "execution_count": null,
   "metadata": {
    "ExecuteTime": {
     "end_time": "2021-01-19T18:13:47.816590Z",
     "start_time": "2021-01-19T18:13:15.739177Z"
    }
   },
   "outputs": [],
   "source": [
    "tb_writer = SummaryWriter(\"logs/nr_online_play\")\n",
    "net = NRNet(num_layers=3, in_dim=1, hidden_dim=4, nonlin=torch.tanh, has_bias=True, init_as_design=True)\n",
    "net_optim = optim.Adam(net.parameters(), lr=0.05)  # eta\n",
    "nr_model = NRModel(\n",
    "    net,\n",
    "    lda=LDA,\n",
    "    optim=net_optim,\n",
    "    update_batch_size=np.inf,\n",
    "    update_iters_per_point=10,\n",
    "    tb_writer=tb_writer,\n",
    ")\n",
    "\n",
    "objective = GPyOpt.core.task.SingleObjective(f_noisy.f)\n",
    "space = GPyOpt.Design_space(space=bounds)\n",
    "acq_optimizer = GPyOpt.optimization.AcquisitionOptimizer(space)\n",
    "initial_design = GPyOpt.experiment_design.initial_design(\"random\", space, 5)\n",
    "acq = GPyOpt.acquisitions.AcquisitionLCB(\n",
    "    nr_model, space, acq_optimizer, exploration_weight=2  # gamma\n",
    ")\n",
    "feval = GPyOpt.core.evaluators.Sequential(acq)\n",
    "nr_bo = GPyOpt.methods.ModularBayesianOptimization(\n",
    "    nr_model, space, objective, acq, feval, initial_design, normalize_Y=True\n",
    ")\n",
    "\n",
    "nr_bo.run_optimization(max_iter=20, verbosity=True, eps=-1)\n",
    "mu, sig = float(nr_bo.Y.mean()), float(nr_bo.Y.std())\n",
    "plot_comp_1d(f_true, f_noisy, nr_model, nr_bo.X, nr_bo.Y, mu, sig)\n",
    "\n",
    "fig = mw.plt().figure()\n",
    "ax = fig.add_subplot(111)\n",
    "diffs = np.linalg.norm(nr_bo.X[1:] - nr_bo.X[:-1], axis=1)\n",
    "ax.semilogy(diffs)\n",
    "ax.set_ylabel(\"$\\|x_{n+1} - x_n\\|$\")\n",
    "ax.set_xlabel(\"n\")\n",
    "_ = ax.set_title(\"Distance between consecutive x's\")\n",
    "\n",
    "fig = mw.plt().figure()\n",
    "ax = fig.add_subplot(111)\n",
    "diffs = np.abs(f_true.f(nr_bo.X)[:, 0] - f_min)\n",
    "ax.semilogy(diffs)\n",
    "ax.set_ylabel(\"$|f(x_n) - f_*|$\")\n",
    "ax.set_xlabel(\"n\")\n",
    "_ = ax.set_title(\"Distance from the minimum\")\n"
   ]
  },
  {
   "cell_type": "code",
   "execution_count": null,
   "metadata": {},
   "outputs": [],
   "source": []
  }
 ],
 "metadata": {
  "kernelspec": {
   "display_name": "Python 3",
   "language": "python",
   "name": "python3"
  },
  "language_info": {
   "codemirror_mode": {
    "name": "ipython",
    "version": 3
   },
   "file_extension": ".py",
   "mimetype": "text/x-python",
   "name": "python",
   "nbconvert_exporter": "python",
   "pygments_lexer": "ipython3",
   "version": "3.7.7"
  },
  "varInspector": {
   "cols": {
    "lenName": 16,
    "lenType": 16,
    "lenVar": 40
   },
   "kernels_config": {
    "python": {
     "delete_cmd_postfix": "",
     "delete_cmd_prefix": "del ",
     "library": "var_list.py",
     "varRefreshCmd": "print(var_dic_list())"
    },
    "r": {
     "delete_cmd_postfix": ") ",
     "delete_cmd_prefix": "rm(",
     "library": "var_list.r",
     "varRefreshCmd": "cat(var_dic_list()) "
    }
   },
   "types_to_exclude": [
    "module",
    "function",
    "builtin_function_or_method",
    "instance",
    "_Feature"
   ],
   "window_display": false
  }
 },
 "nbformat": 4,
 "nbformat_minor": 2
}
